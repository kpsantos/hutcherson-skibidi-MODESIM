{
 "cells": [
  {
   "cell_type": "code",
   "execution_count": null,
   "metadata": {},
   "outputs": [],
   "source": [
    "#test\n",
    "#print(\"test\")\n",
    "#print(\"Edwin was Here\")"
   ]
  },
  {
   "cell_type": "code",
   "execution_count": null,
   "metadata": {},
   "outputs": [],
   "source": [
    "#importing stuff\n",
    "import mesa\n",
    "\n",
    "#Data visualization tools\n",
    "import seaborn as sns\n",
    "\n",
    "#math functions, multi-dimensional arrays and matrices\n",
    "import numpy as np\n",
    "\n",
    "#data manipulation and analysis\n",
    "import pandas as pd"
   ]
  },
  {
   "cell_type": "code",
   "execution_count": null,
   "metadata": {},
   "outputs": [],
   "source": [
    "class MoneyAgent(mesa.Agent):\n",
    "    #agent with fixed wealth rich as fuck\n",
    "    \n",
    "    def __init__(self, unique_id, model):\n",
    "        #pass parameters to parent class\n",
    "        super().__init__(unique_id, model)\n",
    "        \n",
    "        #agent variable inital\n",
    "        self.wealth = 1\n",
    "    \n",
    "    def step(self):\n",
    "        #agent's step\n",
    "        #demo only yung unique id print \n",
    "        print(f\"I am Josh Hutcherson's agent. My name is: {str(self.unique_id)}.\")"
   ]
  },
  {
   "cell_type": "code",
   "execution_count": null,
   "metadata": {},
   "outputs": [],
   "source": [
    "class MoneyModel(mesa.Model):\n",
    "    #model with number of agents\n",
    "    \n",
    "    def __init__(self, N):\n",
    "        self.num_agents = N\n",
    "        #create agents \n",
    "        for i in range(self.num_agents):\n",
    "            a = MoneyAgent(i, self)\n",
    "            #add agent to scheduler\n",
    "            self.schedule.add(a)\n",
    "    \n",
    "    def step(self):\n",
    "        #advance model by one step\n",
    "        #The model's step will go here for now this will call the step method of each agent and print the agent's unique_id\n",
    "        self.schedule.step()"
   ]
  }
 ],
 "metadata": {
  "language_info": {
   "name": "python"
  }
 },
 "nbformat": 4,
 "nbformat_minor": 2
}
