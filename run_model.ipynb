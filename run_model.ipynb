{
 "cells": [
  {
   "cell_type": "code",
   "execution_count": 1,
   "metadata": {},
   "outputs": [
    {
     "name": "stdout",
     "output_type": "stream",
     "text": [
      "I am Josh Hutcherson's agent. My name is: 8.\n",
      "I am Josh Hutcherson's agent. My name is: 1.\n",
      "I am Josh Hutcherson's agent. My name is: 7.\n",
      "I am Josh Hutcherson's agent. My name is: 0.\n",
      "I am Josh Hutcherson's agent. My name is: 4.\n",
      "I am Josh Hutcherson's agent. My name is: 2.\n",
      "I am Josh Hutcherson's agent. My name is: 6.\n",
      "I am Josh Hutcherson's agent. My name is: 9.\n",
      "I am Josh Hutcherson's agent. My name is: 3.\n",
      "I am Josh Hutcherson's agent. My name is: 5.\n"
     ]
    }
   ],
   "source": [
    "from money_model import MoneyModel\n",
    "\n",
    "starter_model = MoneyModel(10)\n",
    "starter_model.step()\n"
   ]
  }
 ],
 "metadata": {
  "kernelspec": {
   "display_name": "Python 3",
   "language": "python",
   "name": "python3"
  },
  "language_info": {
   "codemirror_mode": {
    "name": "ipython",
    "version": 3
   },
   "file_extension": ".py",
   "mimetype": "text/x-python",
   "name": "python",
   "nbconvert_exporter": "python",
   "pygments_lexer": "ipython3",
   "version": "3.11.4"
  }
 },
 "nbformat": 4,
 "nbformat_minor": 2
}
